{
 "cells": [
  {
   "cell_type": "code",
   "execution_count": null,
   "metadata": {},
   "outputs": [],
   "source": [
    "import pandas as pd\n",
    "import datetime\n",
    "from pathlib import Path\n",
    "from scipy.io import loadmat\n",
    "from typing import Literal\n",
    "\n"
   ]
  },
  {
   "cell_type": "code",
   "execution_count": null,
   "metadata": {},
   "outputs": [],
   "source": [
    "def load_data(path: Path | str, target_operation: Literal[\"charge\", \"discharge\"]) -> pd.DataFrame:\n",
    "    path = Path(path)\n",
    "    mat = loadmat(path)  # load mat-file\n",
    "    data = mat[path.stem][\"cycle\"][0, 0]\n",
    "\n",
    "    parsed_data = []\n",
    "    for cycle in data:\n",
    "        for operation_id, operation in enumerate(cycle):\n",
    "            operation_type = operation[\"type\"][0]\n",
    "            if operation_type != target_operation:\n",
    "                continue\n",
    "\n",
    "            for fields in operation[\"data\"]:\n",
    "                if operation_type == \"charge\":\n",
    "                    operation_data = pd.DataFrame({\n",
    "                        k: fields[k][0][0]\n",
    "                        for k in fields.dtype.fields\n",
    "                    })\n",
    "                elif operation_type == \"discharge\":\n",
    "                    operation_data = pd.DataFrame({\n",
    "                        k: fields[k][0][0]\n",
    "                        for k in fields.dtype.fields\n",
    "                        if k != \"Capacity\"\n",
    "                    })\n",
    "                    operation_data[\"Capacity\"] = fields[\"Capacity\"][0][0, 0]      \n",
    "\n",
    "            operation_data[\"operation_id\"] = operation_id\n",
    "            operation_data[\"temperature\"] = operation[\"ambient_temperature\"][0, 0]\n",
    "            operation_data[\"type\"] = operation_type\n",
    "            operation_data[\"start_time\"] = datetime.datetime(*(int(t) for t in operation[\"time\"][0]))\n",
    "\n",
    "            parsed_data.append(operation_data)\n",
    "    \n",
    "    return pd.concat(parsed_data, ignore_index=True)"
   ]
  },
  {
   "cell_type": "code",
   "execution_count": null,
   "metadata": {},
   "outputs": [],
   "source": []
  },
  {
   "cell_type": "code",
   "execution_count": null,
   "metadata": {},
   "outputs": [],
   "source": [
    "import matplotlib.pyplot as plt\n",
    "import seaborn as sns\n",
    "\n",
    "sns.set()"
   ]
  },
  {
   "cell_type": "code",
   "execution_count": null,
   "metadata": {},
   "outputs": [],
   "source": [
    "paths = sorted(Path(\"5. Battery Data Set/3. BatteryAgingARC_25-44\").glob(\"*.mat\"))\n",
    "\n",
    "for p in paths:\n",
    "    data = load_data(p, \"discharge\")\n",
    "    sns.scatterplot(data=data, x=\"start_time\", y=\"Capacity\")\n",
    "    plt.title(Path(p).stem)\n",
    "    plt.show()"
   ]
  }
 ],
 "metadata": {
  "kernelspec": {
   "display_name": "pdm",
   "language": "python",
   "name": "python3"
  },
  "language_info": {
   "codemirror_mode": {
    "name": "ipython",
    "version": 3
   },
   "file_extension": ".py",
   "mimetype": "text/x-python",
   "name": "python",
   "nbconvert_exporter": "python",
   "pygments_lexer": "ipython3",
   "version": "3.12.2"
  }
 },
 "nbformat": 4,
 "nbformat_minor": 2
}
