{
 "cells": [
  {
   "cell_type": "code",
   "execution_count": null,
   "metadata": {},
   "outputs": [],
   "source": [
    "import pandas as pd\n",
    "import datetime\n",
    "from pathlib import Path\n",
    "from scipy.io import loadmat\n",
    "from typing import Literal\n",
    "\n"
   ]
  },
  {
   "cell_type": "code",
   "execution_count": null,
   "metadata": {},
   "outputs": [],
   "source": [
    "def load_data(path: Path | str, target_operation: Literal[\"charge\", \"discharge\"]) -> pd.DataFrame:\n",
    "    path = Path(path)\n",
    "    mat = loadmat(path)  # load mat-file\n",
    "    data = mat[path.stem][\"cycle\"][0, 0]\n",
    "\n",
    "    parsed_data = []\n",
    "    for cycle in data:\n",
    "        for operation_id, operation in enumerate(cycle):\n",
    "            operation_type = operation[\"type\"][0]\n",
    "            if operation_type != target_operation:\n",
    "                continue\n",
    "\n",
    "            for fields in operation[\"data\"]:\n",
    "                if operation_type == \"charge\":\n",
    "                    operation_data = pd.DataFrame({\n",
    "                        k: fields[k][0][0]\n",
    "                        for k in fields.dtype.fields\n",
    "                    })\n",
    "                elif operation_type == \"discharge\":\n",
    "                    operation_data = pd.DataFrame({\n",
    "                        k: fields[k][0][0]\n",
    "                        for k in fields.dtype.fields\n",
    "                        if k != \"Capacity\"\n",
    "                    })\n",
    "                    operation_data[\"Capacity\"] = fields[\"Capacity\"][0][0, 0]      \n",
    "\n",
    "            operation_data[\"operation_id\"] = operation_id\n",
    "            operation_data[\"temperature\"] = operation[\"ambient_temperature\"][0, 0]\n",
    "            operation_data[\"type\"] = operation_type\n",
    "            operation_data[\"start_time\"] = datetime.datetime(*(int(t) for t in operation[\"time\"][0]))\n",
    "\n",
    "            parsed_data.append(operation_data)\n",
    "    \n",
    "    return pd.concat(parsed_data, ignore_index=True)"
   ]
  },
  {
   "cell_type": "code",
   "execution_count": null,
   "metadata": {},
   "outputs": [],
   "source": []
  },
  {
   "cell_type": "code",
   "execution_count": null,
   "metadata": {},
   "outputs": [],
   "source": [
    "import matplotlib.pyplot as plt\n",
    "import seaborn as sns\n",
    "\n",
    "sns.set_theme()"
   ]
  },
  {
   "cell_type": "code",
   "execution_count": null,
   "metadata": {},
   "outputs": [],
   "source": [
    "paths = sorted(Path(\"5. Battery Data Set/1. BatteryAgingARC-FY08Q4\").glob(\"*.mat\"))\n",
    "\n",
    "for p in paths:\n",
    "    data = load_data(p, \"discharge\")\n",
    "\n",
    "    sns.scatterplot(data=data, x=\"start_time\", y=\"Capacity\")\n",
    "    plt.title(Path(p).stem)\n",
    "    plt.show()"
   ]
  },
  {
   "cell_type": "code",
   "execution_count": null,
   "metadata": {},
   "outputs": [],
   "source": [
    "for p in paths:\n",
    "    data = load_data(p, \"discharge\")\n",
    "    for feature in data.columns[:5]:\n",
    "        sns.scatterplot(data=data, x=\"Time\", y=feature, hue=\"Capacity\", alpha=0.2)\n",
    "        plt.title(f\"{Path(p).stem}: {feature}\")\n",
    "        plt.show()\n",
    "\n"
   ]
  },
  {
   "cell_type": "code",
   "execution_count": null,
   "metadata": {},
   "outputs": [],
   "source": [
    "data = pd.concat({Path(p).stem: load_data(p, \"discharge\") for p in paths})\n",
    "data.index.names = [\"file\", \"index\"]"
   ]
  },
  {
   "cell_type": "code",
   "execution_count": null,
   "metadata": {},
   "outputs": [],
   "source": [
    "grouped_data = data.groupby([\"file\", \"operation_id\"]).agg({\n",
    "    \"Time\": \"max\",\n",
    "    \"Capacity\": \"first\",\n",
    "})"
   ]
  },
  {
   "cell_type": "code",
   "execution_count": null,
   "metadata": {},
   "outputs": [],
   "source": [
    "sns.scatterplot(data=grouped_data, x=\"Time\", y=\"Capacity\", hue=\"file\")\n",
    "plt.legend([])\n",
    "plt.show()"
   ]
  },
  {
   "cell_type": "code",
   "execution_count": null,
   "metadata": {},
   "outputs": [],
   "source": [
    "import scipy.integrate"
   ]
  },
  {
   "cell_type": "code",
   "execution_count": null,
   "metadata": {},
   "outputs": [],
   "source": [
    "cycle_statistics = []\n",
    "for group, group_data in data.groupby([\"file\", \"operation_id\"]):\n",
    "    power = group_data[\"Voltage_measured\"] * group_data[\"Current_measured\"]\n",
    "    total_power = scipy.integrate.trapezoid(power, group_data[\"Time\"])\n",
    "    total_current = scipy.integrate.trapezoid(group_data[\"Current_measured\"], group_data[\"Time\"])\n",
    "    cycle_statistics.append({\n",
    "        \"file\": group[0],\n",
    "        \"operation_id\": group[1],\n",
    "        \"total_power\": total_power,\n",
    "        \"total_current\": total_current,\n",
    "        \"capacity\": group_data[\"Capacity\"].iloc[0],\n",
    "    })\n",
    "cycle_statistics = pd.DataFrame(cycle_statistics)"
   ]
  },
  {
   "cell_type": "code",
   "execution_count": null,
   "metadata": {},
   "outputs": [],
   "source": [
    "import scipy.stats"
   ]
  },
  {
   "cell_type": "code",
   "execution_count": null,
   "metadata": {},
   "outputs": [],
   "source": [
    "sns.scatterplot(data=cycle_statistics, x=\"total_power\", y=\"capacity\", hue=\"file\")\n",
    "plt.legend([])\n",
    "plt.show()\n",
    "scipy.stats.linregress(cycle_statistics[\"total_power\"], cycle_statistics[\"capacity\"])"
   ]
  },
  {
   "cell_type": "code",
   "execution_count": null,
   "metadata": {},
   "outputs": [],
   "source": [
    "sns.scatterplot(data=cycle_statistics, x=\"total_current\", y=\"capacity\", hue=\"file\")\n",
    "plt.legend([])\n",
    "plt.show()\n",
    "scipy.stats.linregress(cycle_statistics[\"total_current\"], cycle_statistics[\"capacity\"])"
   ]
  }
 ],
 "metadata": {
  "kernelspec": {
   "display_name": "pdm",
   "language": "python",
   "name": "python3"
  },
  "language_info": {
   "codemirror_mode": {
    "name": "ipython",
    "version": 3
   },
   "file_extension": ".py",
   "mimetype": "text/x-python",
   "name": "python",
   "nbconvert_exporter": "python",
   "pygments_lexer": "ipython3",
   "version": "3.12.2"
  }
 },
 "nbformat": 4,
 "nbformat_minor": 2
}
