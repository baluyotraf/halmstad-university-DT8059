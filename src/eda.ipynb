{
 "cells": [
  {
   "cell_type": "code",
   "execution_count": null,
   "metadata": {},
   "outputs": [],
   "source": [
    "from pathlib import Path\n",
    "\n",
    "import pandas as pd\n",
    "import matplotlib.pyplot as plt\n",
    "import seaborn as sns\n",
    "import scipy.integrate\n",
    "\n",
    "from common.data import load_data\n",
    "\n",
    "sns.set_theme()"
   ]
  },
  {
   "cell_type": "code",
   "execution_count": null,
   "metadata": {},
   "outputs": [],
   "source": [
    "paths = sorted(Path(\"../data/5. Battery Data Set/1. BatteryAgingARC-FY08Q4\").glob(\"*.mat\"))\n",
    "\n",
    "for p in paths:\n",
    "    data = load_data(p, \"discharge\")\n",
    "\n",
    "    sns.scatterplot(data=data, x=\"operation_id\", y=\"Capacity\")\n",
    "    plt.title(Path(p).stem)\n",
    "    plt.show()"
   ]
  },
  {
   "cell_type": "code",
   "execution_count": null,
   "metadata": {},
   "outputs": [],
   "source": [
    "for p in paths:\n",
    "    data = load_data(p, \"discharge\")\n",
    "    for feature in data.columns[:5]:\n",
    "        sns.scatterplot(data=data, x=\"Time\", y=feature, hue=\"Capacity\", alpha=0.2)\n",
    "        plt.title(f\"{Path(p).stem}: {feature}\")\n",
    "        plt.show()\n",
    "\n"
   ]
  },
  {
   "cell_type": "code",
   "execution_count": null,
   "metadata": {},
   "outputs": [],
   "source": [
    "data = pd.concat({Path(p).stem: load_data(p, \"discharge\") for p in paths})\n",
    "data.index.names = [\"file\", \"index\"]"
   ]
  },
  {
   "cell_type": "code",
   "execution_count": null,
   "metadata": {},
   "outputs": [],
   "source": [
    "grouped_data = data.groupby([\"file\", \"operation_id\"]).agg({\n",
    "    \"Time\": \"max\",\n",
    "    \"Capacity\": \"first\",\n",
    "    \"Temperature_measured\": \"mean\",\n",
    "})"
   ]
  },
  {
   "cell_type": "code",
   "execution_count": null,
   "metadata": {},
   "outputs": [],
   "source": [
    "sns.scatterplot(data=grouped_data, x=\"Time\", y=\"Capacity\", hue=\"file\")\n",
    "plt.legend([])\n",
    "plt.show()"
   ]
  },
  {
   "cell_type": "code",
   "execution_count": null,
   "metadata": {},
   "outputs": [],
   "source": [
    "sns.scatterplot(data=grouped_data, x=\"operation_id\", y=\"Capacity\", hue=\"file\")\n",
    "plt.legend([])\n",
    "plt.show()"
   ]
  },
  {
   "cell_type": "code",
   "execution_count": null,
   "metadata": {},
   "outputs": [],
   "source": [
    "sns.scatterplot(data=grouped_data, x=\"Temperature_measured\", y=\"Capacity\", hue=\"file\")\n",
    "plt.legend([])\n",
    "plt.show()"
   ]
  },
  {
   "cell_type": "code",
   "execution_count": null,
   "metadata": {},
   "outputs": [],
   "source": [
    "cycle_statistics = []\n",
    "for group, group_data in data.groupby([\"file\", \"operation_id\"]):\n",
    "    power = group_data[\"Voltage_measured\"] * group_data[\"Current_measured\"]\n",
    "    total_power = scipy.integrate.trapezoid(power, group_data[\"Time\"])\n",
    "    total_current = scipy.integrate.trapezoid(group_data[\"Current_measured\"], group_data[\"Time\"])\n",
    "    cycle_statistics.append({\n",
    "        \"file\": group[0],\n",
    "        \"operation_id\": group[1],\n",
    "        \"total_power\": total_power,\n",
    "        \"total_current\": total_current,\n",
    "        \"capacity\": group_data[\"Capacity\"].iloc[0],\n",
    "    })\n",
    "cycle_statistics = pd.DataFrame(cycle_statistics)"
   ]
  },
  {
   "cell_type": "code",
   "execution_count": null,
   "metadata": {},
   "outputs": [],
   "source": [
    "import scipy.stats"
   ]
  },
  {
   "cell_type": "code",
   "execution_count": null,
   "metadata": {},
   "outputs": [],
   "source": [
    "sns.scatterplot(data=cycle_statistics, x=\"total_power\", y=\"capacity\", hue=\"file\")\n",
    "plt.legend([])\n",
    "plt.show()\n",
    "scipy.stats.linregress(cycle_statistics[\"total_power\"], cycle_statistics[\"capacity\"])"
   ]
  },
  {
   "cell_type": "code",
   "execution_count": null,
   "metadata": {},
   "outputs": [],
   "source": [
    "sns.scatterplot(data=cycle_statistics, x=\"total_current\", y=\"capacity\", hue=\"file\")\n",
    "plt.legend([])\n",
    "plt.show()\n",
    "scipy.stats.linregress(cycle_statistics[\"total_current\"], cycle_statistics[\"capacity\"])"
   ]
  }
 ],
 "metadata": {
  "kernelspec": {
   "display_name": "pdm",
   "language": "python",
   "name": "python3"
  },
  "language_info": {
   "codemirror_mode": {
    "name": "ipython",
    "version": 3
   },
   "file_extension": ".py",
   "mimetype": "text/x-python",
   "name": "python",
   "nbconvert_exporter": "python",
   "pygments_lexer": "ipython3",
   "version": "3.12.2"
  }
 },
 "nbformat": 4,
 "nbformat_minor": 2
}
