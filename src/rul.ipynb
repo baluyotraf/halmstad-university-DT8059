{
 "cells": [
  {
   "cell_type": "code",
   "execution_count": null,
   "metadata": {},
   "outputs": [],
   "source": [
    "from pathlib import Path\n",
    "from typing import Iterable\n",
    "\n",
    "import numpy as np\n",
    "import pandas as pd\n",
    "import matplotlib.pyplot as plt\n",
    "import seaborn as sns\n",
    "from sklearn.metrics import mean_squared_error\n",
    "from lightgbm import LGBMRegressor\n",
    "\n",
    "from common.data import load_data\n",
    "\n",
    "sns.set_theme()"
   ]
  },
  {
   "cell_type": "code",
   "execution_count": null,
   "metadata": {},
   "outputs": [],
   "source": [
    "base_path = Path(\"../data/5. Battery Data Set/1. BatteryAgingARC-FY08Q4\")\n",
    "\n",
    "def make_paths(names: Iterable[str]):\n",
    "    return [\n",
    "        base_path.joinpath(name)\n",
    "        for name in names\n",
    "    ]\n",
    "\n",
    "train_paths = make_paths([\"B0005.mat\", \"B0006.mat\"])\n",
    "valid_paths = make_paths([\"B0007.mat\"])\n",
    "test_paths = make_paths([\"B0018.mat\"])"
   ]
  },
  {
   "cell_type": "code",
   "execution_count": null,
   "metadata": {},
   "outputs": [],
   "source": [
    "def load_paths(paths: Iterable[Path]) -> pd.DataFrame:\n",
    "    data = pd.concat({Path(p).stem: load_data(p, \"discharge\") for p in paths})\n",
    "    data.index.names = [\"file\", \"index\"]\n",
    "    return data"
   ]
  },
  {
   "cell_type": "code",
   "execution_count": null,
   "metadata": {},
   "outputs": [],
   "source": [
    "train_data = load_paths(train_paths)\n",
    "valid_data = load_paths(valid_paths)\n",
    "test_data = load_paths(test_paths)"
   ]
  },
  {
   "cell_type": "code",
   "execution_count": null,
   "metadata": {},
   "outputs": [],
   "source": [
    "def window_dataframe(df: pd.DataFrame, size: int) -> pd.DataFrame:\n",
    "    windows = []\n",
    "    for s in range(size):\n",
    "        shifted = df.shift(s)\n",
    "        shifted.columns = shifted.columns.map(lambda c: f\"{c}_b{s}\")\n",
    "        windows.append(shifted)\n",
    "    return pd.concat(windows, axis=1).iloc[size-1:].reset_index(drop=True)\n",
    "\n",
    "def process_data(data: pd.DataFrame, window_size: int):\n",
    "    X = []\n",
    "    y = []\n",
    "\n",
    "    for _, group_df in data.groupby(\"file\"):\n",
    "        operation_df = group_df.groupby(\"operation_id\").agg({\n",
    "            \"Capacity\": [\"first\"],\n",
    "            \"Temperature_measured\": [\"min\", \"max\"],\n",
    "        })\n",
    "        operation_df.columns = operation_df.columns.map(lambda c: \"_\".join(c))\n",
    "\n",
    "        is_alive = operation_df.eval(\"Capacity_first > 1.4\")\n",
    "        alive_cycles = is_alive.sum()\n",
    "        rul_cycles = -(np.arange(len(is_alive)) - alive_cycles)\n",
    "\n",
    "        X.append(operation_df)\n",
    "        y.append(pd.DataFrame({\"rul\": rul_cycles}))\n",
    "\n",
    "    X = pd.concat(X, ignore_index=True)\n",
    "    y = pd.concat(y, ignore_index=True)\n",
    "\n",
    "    X_win = window_dataframe(X, window_size)\n",
    "    y_win = y[\"rul\"].iloc[window_size-1:].reset_index(drop=True)\n",
    "\n",
    "    return X_win, y_win"
   ]
  },
  {
   "cell_type": "code",
   "execution_count": null,
   "metadata": {},
   "outputs": [],
   "source": [
    "window_size = 3\n",
    "train_X, train_y = process_data(train_data, window_size=window_size)\n",
    "valid_X, valid_y = process_data(valid_data, window_size=window_size)\n",
    "test_X, test_y = process_data(test_data, window_size=window_size)"
   ]
  },
  {
   "cell_type": "code",
   "execution_count": null,
   "metadata": {},
   "outputs": [],
   "source": [
    "model = LGBMRegressor()\n",
    "model.fit(train_X, train_y, eval_set=(valid_X, valid_y))"
   ]
  },
  {
   "cell_type": "code",
   "execution_count": null,
   "metadata": {},
   "outputs": [],
   "source": [
    "def plot_prediction(y, pred):\n",
    "    plot_min = min(pred.min(), y.min())\n",
    "    plot_max = min(pred.max(), y.max())\n",
    "\n",
    "    plt.scatter(pred, y, alpha=0.2)\n",
    "    plt.plot(\n",
    "        [plot_min, plot_max], [plot_min, plot_max], \n",
    "        color=\"orange\", \n",
    "        linestyle=\"dashed\",\n",
    "    )\n",
    "    plt.title(\"Prediction vs Real\")\n",
    "    plt.xlabel(\"Predictions\")\n",
    "    plt.ylabel(\"Real\")\n",
    "    plt.show()\n",
    "\n",
    "\n",
    "def regression_report(model, X, y):\n",
    "    pred = model.predict(X)\n",
    "    diff = pred - y\n",
    "\n",
    "    print(f\"rmse: {mean_squared_error(y, pred):0.4f}\")\n",
    "    print(f\"max early: {diff[diff > 0].max()}\")\n",
    "    print(f\"max late: {diff[diff < 0].min()}\")\n",
    "    plot_prediction(y, pred)\n"
   ]
  },
  {
   "cell_type": "code",
   "execution_count": null,
   "metadata": {},
   "outputs": [],
   "source": [
    "regression_report(model, train_X, train_y)"
   ]
  },
  {
   "cell_type": "code",
   "execution_count": null,
   "metadata": {},
   "outputs": [],
   "source": [
    "regression_report(model, valid_X, valid_y)"
   ]
  },
  {
   "cell_type": "code",
   "execution_count": null,
   "metadata": {},
   "outputs": [],
   "source": [
    "regression_report(model, test_X, test_y)"
   ]
  }
 ],
 "metadata": {
  "kernelspec": {
   "display_name": "pdm",
   "language": "python",
   "name": "python3"
  },
  "language_info": {
   "codemirror_mode": {
    "name": "ipython",
    "version": 3
   },
   "file_extension": ".py",
   "mimetype": "text/x-python",
   "name": "python",
   "nbconvert_exporter": "python",
   "pygments_lexer": "ipython3",
   "version": "3.12.2"
  }
 },
 "nbformat": 4,
 "nbformat_minor": 2
}
